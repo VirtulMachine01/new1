{
 "cells": [
  {
   "cell_type": "code",
   "execution_count": 1,
   "metadata": {},
   "outputs": [],
   "source": [
    "from dotenv import load_dotenv\n",
    "import os\n",
    "import mimetypes\n",
    "import json\n",
    "import base64\n",
    "from PIL import Image\n",
    "import google.generativeai as genai\n",
    "import time"
   ]
  },
  {
   "cell_type": "code",
   "execution_count": 2,
   "metadata": {},
   "outputs": [],
   "source": [
    "## Configuring API Key\n",
    "load_dotenv()  # Ensure this line is executed to load the environment variables\n",
    "genai.configure(api_key=os.getenv(\"GOOGLE_API_KEY\"))"
   ]
  },
  {
   "cell_type": "code",
   "execution_count": 3,
   "metadata": {},
   "outputs": [],
   "source": [
    "## Function to load Gemini Pro vision model and get response\n",
    "from google.generativeai.types import HarmCategory, HarmBlockThreshold\n",
    "def get_gemini_response(input, image, prompt):\n",
    "    model = genai.GenerativeModel('gemini-1.5-flash')\n",
    "    # model = genai.GenerativeModel('gemini-1.5-pro')\n",
    "    try:\n",
    "        # response = model.generate_content([input, image[0], prompt])\n",
    "        response = model.generate_content(\n",
    "            [input, image[0], prompt],\n",
    "            safety_settings={\n",
    "                HarmCategory.HARM_CATEGORY_HATE_SPEECH: HarmBlockThreshold.BLOCK_NONE,\n",
    "                HarmCategory.HARM_CATEGORY_HARASSMENT: HarmBlockThreshold.BLOCK_NONE,\n",
    "                # HarmCategory.HARM_CATEGORY_DANGEROUS: HarmBlockThreshold.BLOCK_NONE,\n",
    "                HarmCategory.HARM_CATEGORY_DANGEROUS_CONTENT: HarmBlockThreshold.BLOCK_NONE,\n",
    "            }\n",
    "        )\n",
    "        \n",
    "        # Check if the response was blocked due to safety ratings\n",
    "        if response.candidates and response.candidates[0].content:\n",
    "            return response.candidates[0].content.parts[0].text\n",
    "        else:\n",
    "            # Check safety ratings\n",
    "            if response.candidates and response.candidates[0].safety_ratings:\n",
    "                safety_issues = [f\"{rating.category}: {rating.probability}\"\n",
    "                                 for rating in response.candidates[0].safety_ratings\n",
    "                                 if rating.probability != \"NEGLIGIBLE\"]\n",
    "                return f\"Response blocked due to safety concerns: {', '.join(safety_issues)}\"\n",
    "            else:\n",
    "                return \"No valid response generated. Please try again with a different prompt or image.\"\n",
    "    except Exception as e:\n",
    "        return f\"An error occurred: {str(e)}\""
   ]
  },
  {
   "cell_type": "code",
   "execution_count": 4,
   "metadata": {},
   "outputs": [],
   "source": [
    "def input_image_setup(file_path):\n",
    "    if file_path is not None and os.path.exists(file_path):\n",
    "        # Determine the MIME type based on the file extension\n",
    "        mime_type, _ = mimetypes.guess_type(file_path)\n",
    "        \n",
    "        if mime_type and mime_type.startswith('image/'):\n",
    "            with open(file_path, \"rb\") as file:\n",
    "                bytes_data = file.read()\n",
    "\n",
    "            image_parts = [\n",
    "                {\n",
    "                    \"mime_type\": mime_type,\n",
    "                    \"data\": bytes_data,\n",
    "                }\n",
    "            ]\n",
    "            return image_parts\n",
    "        else:\n",
    "            raise ValueError(\"Unsupported file type. Please provide a valid image file.\")\n",
    "    else:\n",
    "        raise FileNotFoundError(\"No file provided or file does not exist.\")"
   ]
  },
  {
   "cell_type": "code",
   "execution_count": 5,
   "metadata": {},
   "outputs": [],
   "source": [
    "def encode_image_to_base64(file_path):\n",
    "    with open(file_path, \"rb\") as image_file:\n",
    "        return base64.b64encode(image_file.read()).decode('utf-8')"
   ]
  },
  {
   "cell_type": "code",
   "execution_count": 6,
   "metadata": {},
   "outputs": [],
   "source": [
    "def classify_document(image_data):\n",
    "    # Simple classification prompt\n",
    "    classification_prompt = \"\"\"\n",
    "    You are an expert in understanding Indian Documents like Aadhaar card, Pancard, Gate scorecard and birth certificates.\n",
    "    Identify whether the given document is an Aadhaar card or PAN card or Gate scorecard or birth certificate.\n",
    "    Give 'aadhar' as output if it is Aadhaar card, give 'pan' if it is Pancard,\n",
    "    Give 'gatescore' as output if it is Gate Scorecard, give 'birth_cartificate' if it is birth certificate.\n",
    "    \"\"\"\n",
    "    # Get the classification result\n",
    "    classification_result = get_gemini_response(classification_prompt, image_data, \"\")\n",
    "    return classification_result.strip().lower()"
   ]
  },
  {
   "cell_type": "markdown",
   "metadata": {},
   "source": [
    "ZERO SHOT PROMPTING FOR DATA EXTARCTION"
   ]
  },
  {
   "cell_type": "code",
   "execution_count": 71,
   "metadata": {},
   "outputs": [],
   "source": [
    "def ExtractData(image_file_path):\n",
    "    start_time = time.time()\n",
    "\n",
    "    # Display the uploaded image\n",
    "    # image = Image.open(image_file_path)\n",
    "    # image.show()\n",
    "\n",
    "    # Convert the uploaded file to bytes and process\n",
    "    image_data = input_image_setup(image_file_path)\n",
    "\n",
    "    # Classify the document type\n",
    "    document_type = classify_document(image_data)\n",
    "    print(f\"Document type detected: {document_type}\")\n",
    "\n",
    "\n",
    "    end_time = time.time()  # End the timer\n",
    "    print(f\"Time taken for doc detection: {end_time - start_time:.2f} seconds\")\n",
    "\n",
    "    # Set the appropriate few-shot examples and input prompt based on the document type\n",
    "    if \"aadhar\" in document_type:\n",
    "        # few_shot_examples = aadhaar_few_shot_examples\n",
    "        input_text = \"Extract the name, dob, gender, Aadhar Number from the provided Aadharcard Document.\"\n",
    "    elif \"pan\" in document_type:\n",
    "        # few_shot_examples = pan_few_shot_examples\n",
    "        input_text = \"Extract the name, father's name, dob, PAN Number from the provided Pancard Document.\"\n",
    "    elif \"gatescore\" in document_type:\n",
    "        # few_shot_examples = pan_few_shot_examples\n",
    "        input_text = \"Extract the name, Registration number, Examination paper, Gate score, Marks out of 100 from the provided gate scorecard document.\"\n",
    "    elif \"birth_certificate\" in document_type:\n",
    "        # few_shot_examples = pan_few_shot_examples\n",
    "        input_text = \"Extract the name, father's name, dob from the provided Birthcertificate document.\"\n",
    "    else:\n",
    "        print(\"Unknown document type detected. Please provide a proper image.\")\n",
    "        return\n",
    "\n",
    "    input_prompt = \"\"\"\n",
    "    You are an expert in understanding Indian Documents like Aadhaar card and Pancard and birth certificates and Gate scorecard in any Indian Language.\n",
    "    You will recieve input document as image and input text for question on input image document.\n",
    "    Questions will based on the extraction of data from the image like name, dob, father's name, aadharnumber, pannumber or address or score, marks etc.\n",
    "    You have to give the json reponse of this details. please don't include any other text expect the json.\n",
    "    Don't write json and ``` in the output. Only return the json.\n",
    "    \"\"\"\n",
    "    response = get_gemini_response(input_prompt, image_data, input_text)\n",
    "    \n",
    "    if response is None:\n",
    "        print(\"No valid response generated. Please give a proper prompt.\")\n",
    "    elif response.startswith(\"Response blocked due to safety concerns:\"):\n",
    "        print(\"Response blocked due to safety concerns. Please use a different prompt.\")\n",
    "    elif response.startswith(\"An error occurred:\"):\n",
    "        print(\"An error occurred. Please use a different prompt.\")\n",
    "    else:\n",
    "        try:\n",
    "            response_json = json.loads(response)\n",
    "            # print(\"Extracted Information:\")\n",
    "            # print(json.dumps(response_json, indent=4))\n",
    "            end_time = time.time()  # End the timer\n",
    "            print(f\"Total Time taken for data extraction with document detection: {end_time - start_time:.2f} seconds\")\n",
    "            return response_json\n",
    "        except json.JSONDecodeError:\n",
    "            print(\"The response is not a valid JSON. Here is the response text:\")\n",
    "            print(response)\n",
    "    return response\n"
   ]
  },
  {
   "cell_type": "code",
   "execution_count": 72,
   "metadata": {},
   "outputs": [
    {
     "name": "stdout",
     "output_type": "stream",
     "text": [
      "Document type detected: birth_certificate\n",
      "Time taken for doc detection: 2.04 seconds\n",
      "Total Time taken for data extraction with document detection: 4.85 seconds\n"
     ]
    }
   ],
   "source": [
    "# Manually provide the path to the image file\n",
    "# image_file_path = \"Aadharcard-Data/sample_image3.jpeg\"\n",
    "# image_file_path = \"Pancard-Data/pan3.jpeg\"\n",
    "# image_file_path = \"Gatescorecard-Data/gate1.jpeg\"\n",
    "image_file_path = \"Birthcertificate-Data/meet.jpeg\"\n",
    "\n",
    "extracted_data = ExtractData(image_file_path)    "
   ]
  },
  {
   "cell_type": "code",
   "execution_count": 73,
   "metadata": {},
   "outputs": [
    {
     "data": {
      "text/plain": [
       "{'name': 'મિત કુમાર', \"father's name\": 'વ્યાસ ભન', 'dob': '૧૦/૧૨/૦૧'}"
      ]
     },
     "execution_count": 73,
     "metadata": {},
     "output_type": "execute_result"
    }
   ],
   "source": [
    "extracted_data\n",
    "# now if the data is in another language then need to traslate it to english\n",
    "# and if the detected language is other than english then try with one extra prompt for reprompting with the form data"
   ]
  },
  {
   "cell_type": "markdown",
   "metadata": {},
   "source": [
    "From here to\n"
   ]
  },
  {
   "cell_type": "code",
   "execution_count": 59,
   "metadata": {},
   "outputs": [
    {
     "data": {
      "text/plain": [
       "'gu'"
      ]
     },
     "execution_count": 59,
     "metadata": {},
     "output_type": "execute_result"
    }
   ],
   "source": [
    "#Detect the languge\n",
    "\n",
    "from langdetect import detect\n",
    "first_key, first_value = next(iter(extracted_data.items()))\n",
    "detected_lang = detect(first_value)\n",
    "detected_lang\n"
   ]
  },
  {
   "cell_type": "code",
   "execution_count": 60,
   "metadata": {},
   "outputs": [],
   "source": [
    "\n",
    "#now make a dictionary with all the languages full form with shortform\n",
    "\n",
    "detected_lang = \"gujarati\""
   ]
  },
  {
   "cell_type": "code",
   "execution_count": 67,
   "metadata": {},
   "outputs": [],
   "source": [
    "# Cheking again with actual name from form data (Improve response)\n",
    "# if required make dictionary of numebrs for 0 to 9 \n",
    "\n",
    "\n",
    "def CheckAnotherLanguageData(image_file_path, detected_lang):\n",
    "    name = \"Mit kumar\"\n",
    "    father_name = \"Niranjanbhai jesangbhai patel\"\n",
    "    dob = \"10/11/01\"\n",
    "    \n",
    "    image_data = input_image_setup(image_file_path)\n",
    "    #make if else cases for document\n",
    "    input_text = \"Extract the name, father's name, dob from the provided Birthcertificate document, When extracting the details please see if the name if name is {name}, father's name is {father_name} and dob is {dob}\"\n",
    "    input_prompt=\"\"\"\n",
    "    In the document all the details are in {detected_lang} not in english so we to be very carefull when extracting the data.\n",
    "    Yor are a expert in the detection of text of {detected_lang} from the image document.\n",
    "    Now extract the related information in {detected_lang} language it self.\n",
    "    In the input you will get some details also you have to only related those details so you can easily eaxtract the data from the image if that language is not properly visible\n",
    "    Don't write json and ``` in the output. Only return the json.\n",
    "    \"\"\"\n",
    "\n",
    "    # Now translate all the details from {detected_lang} to english and make a json.\n",
    "    response = get_gemini_response(input_prompt, image_data, input_text)\n",
    "    return response\n",
    "imporoved_json = CheckAnotherLanguageData(image_file_path, detected_lang=detected_lang)"
   ]
  },
  {
   "cell_type": "code",
   "execution_count": 68,
   "metadata": {},
   "outputs": [
    {
     "data": {
      "text/plain": [
       "'{\\n\"name\": \"મિતુકુમાર\",\\n\"father_name\": \"જયેન્દ્રભાઈ\",\\n\"dob\": \"૧૦ / ૧૨ / ૦૧\"\\n}'"
      ]
     },
     "execution_count": 68,
     "metadata": {},
     "output_type": "execute_result"
    }
   ],
   "source": [
    "imporoved_json"
   ]
  },
  {
   "cell_type": "markdown",
   "metadata": {},
   "source": [
    "HERE\n"
   ]
  },
  {
   "cell_type": "code",
   "execution_count": 74,
   "metadata": {},
   "outputs": [],
   "source": [
    "#Traslate the json in to the english\n",
    "from deep_translator import GoogleTranslator\n",
    "\n",
    "def translate_text(text, dest_language='en'):\n",
    "    translator = GoogleTranslator(source='auto', target=dest_language)\n",
    "    translated_json = {}\n",
    "\n",
    "    for key, value in text.items():\n",
    "        translated_key = translator.translate(key)\n",
    "        translated_value = translator.translate(value)\n",
    "        translated_json[translated_key] = translated_value\n",
    "    \n",
    "    return translated_json\n",
    "traslated_json = translate_text(extracted_data)"
   ]
  },
  {
   "cell_type": "code",
   "execution_count": 75,
   "metadata": {},
   "outputs": [
    {
     "data": {
      "text/plain": [
       "{'name': 'Mit Kumar', \"father's name\": 'Vyasa Bhan', 'dob': '૧૦/૧૨/૦૧'}"
      ]
     },
     "execution_count": 75,
     "metadata": {},
     "output_type": "execute_result"
    }
   ],
   "source": [
    "traslated_json"
   ]
  },
  {
   "cell_type": "code",
   "execution_count": null,
   "metadata": {},
   "outputs": [],
   "source": []
  }
 ],
 "metadata": {
  "kernelspec": {
   "display_name": "newVenv",
   "language": "python",
   "name": "python3"
  },
  "language_info": {
   "codemirror_mode": {
    "name": "ipython",
    "version": 3
   },
   "file_extension": ".py",
   "mimetype": "text/x-python",
   "name": "python",
   "nbconvert_exporter": "python",
   "pygments_lexer": "ipython3",
   "version": "3.12.4"
  }
 },
 "nbformat": 4,
 "nbformat_minor": 2
}
