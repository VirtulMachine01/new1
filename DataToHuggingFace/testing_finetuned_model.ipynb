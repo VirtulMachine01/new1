{
 "cells": [
  {
   "cell_type": "code",
   "execution_count": null,
   "metadata": {},
   "outputs": [
    {
     "name": "stdout",
     "output_type": "stream",
     "text": [
      "Generated Caption: old man passing from a white pole, with a green tree in the background, blue car and a white car are parked, some office is there on the left of man with green labels\n"
     ]
    }
   ],
   "source": [
    "# testing localy saved model\n",
    "from transformers import BlipForConditionalGeneration, BlipProcessor\n",
    "from PIL import Image\n",
    "\n",
    "local_directory = \"fine_tuned_model\"\n",
    "\n",
    "# Load the saved model and processor\n",
    "model = BlipForConditionalGeneration.from_pretrained(local_directory)\n",
    "processor = BlipProcessor.from_pretrained(local_directory)\n",
    "\n",
    "# Example image and caption\n",
    "image_url = \"test2.jpg\"\n",
    "image = Image.open(image_url)\n",
    "\n",
    "# Preprocess the image and caption\n",
    "inputs = processor(images=image, return_tensors=\"pt\", padding=True)\n",
    "\n",
    "# Generate captions\n",
    "output_ids = model.generate(**inputs, max_length=50, num_beams=4, early_stopping=True)[0]\n",
    "generated_caption = processor.decode(output_ids, skip_special_tokens=True)\n",
    "\n",
    "print(\"Generated Caption:\", generated_caption)"
   ]
  },
  {
   "cell_type": "code",
   "execution_count": 3,
   "metadata": {},
   "outputs": [
    {
     "name": "stdout",
     "output_type": "stream",
     "text": [
      "Generated Caption: old man passing from a white pole, with a green tree in the background, blue car and a white car are parked, some office is there on the left of man with green labels\n"
     ]
    }
   ],
   "source": [
    "#testing from huggingface uploaded model\n",
    "from transformers import BlipForConditionalGeneration, BlipProcessor\n",
    "from PIL import Image\n",
    "\n",
    "local_directory = \"fine_tuned_model\"\n",
    "\n",
    "# Load the saved model and processor\n",
    "model = BlipForConditionalGeneration.from_pretrained(\"VirtualMachine01/caption-model\")\n",
    "processor = BlipProcessor.from_pretrained(\"VirtualMachine01/caption-model\")\n",
    "\n",
    "# Example image and caption\n",
    "image_url = \"test2.jpg\"\n",
    "image = Image.open(image_url)\n",
    "\n",
    "# Preprocess the image and caption\n",
    "inputs = processor(images=image, return_tensors=\"pt\", padding=True)\n",
    "\n",
    "# Generate captions\n",
    "output_ids = model.generate(**inputs, max_length=50, num_beams=4, early_stopping=True)[0]\n",
    "generated_caption = processor.decode(output_ids, skip_special_tokens=True)\n",
    "\n",
    "print(\"Generated Caption:\", generated_caption)"
   ]
  },
  {
   "cell_type": "code",
   "execution_count": null,
   "metadata": {},
   "outputs": [],
   "source": []
  }
 ],
 "metadata": {
  "kernelspec": {
   "display_name": "newVenv",
   "language": "python",
   "name": "python3"
  },
  "language_info": {
   "codemirror_mode": {
    "name": "ipython",
    "version": 3
   },
   "file_extension": ".py",
   "mimetype": "text/x-python",
   "name": "python",
   "nbconvert_exporter": "python",
   "pygments_lexer": "ipython3",
   "version": "3.12.4"
  }
 },
 "nbformat": 4,
 "nbformat_minor": 2
}
