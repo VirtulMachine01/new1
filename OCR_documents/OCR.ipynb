{
  "cells": [
    {
      "cell_type": "code",
      "execution_count": 7,
      "metadata": {
        "colab": {
          "base_uri": "https://localhost:8080/"
        },
        "id": "D-cRqg6_EAid",
        "outputId": "282b9282-5f9c-4dd2-b039-f443e635f29e"
      },
      "outputs": [
        {
          "ename": "TypeError",
          "evalue": "Reader.__init__() missing 1 required positional argument: 'lang_list'",
          "output_type": "error",
          "traceback": [
            "\u001b[0;31m---------------------------------------------------------------------------\u001b[0m",
            "\u001b[0;31mTypeError\u001b[0m                                 Traceback (most recent call last)",
            "Cell \u001b[0;32mIn[7], line 6\u001b[0m\n\u001b[1;32m      3\u001b[0m \u001b[38;5;28;01mfrom\u001b[39;00m \u001b[38;5;21;01mPIL\u001b[39;00m \u001b[38;5;28;01mimport\u001b[39;00m ImageFont\n\u001b[1;32m      5\u001b[0m \u001b[38;5;66;03m# Initialize EasyOCR Reader with both English and Hindi\u001b[39;00m\n\u001b[0;32m----> 6\u001b[0m reader \u001b[38;5;241m=\u001b[39m \u001b[43measyocr\u001b[49m\u001b[38;5;241;43m.\u001b[39;49m\u001b[43mReader\u001b[49m\u001b[43m(\u001b[49m\u001b[43m)\u001b[49m\n",
            "\u001b[0;31mTypeError\u001b[0m: Reader.__init__() missing 1 required positional argument: 'lang_list'"
          ]
        }
      ],
      "source": [
        "import easyocr\n",
        "import cv2\n",
        "from PIL import ImageFont\n",
        "\n",
        "# Initialize EasyOCR Reader with both English and Hindi\n",
        "reader = easyocr.Reader(['en', 'hi'])"
      ]
    },
    {
      "cell_type": "code",
      "execution_count": 4,
      "metadata": {
        "colab": {
          "base_uri": "https://localhost:8080/"
        },
        "id": "CSvLw9IuEbP9",
        "outputId": "f89b2ffd-90ed-4f24-ae45-70c246006551"
      },
      "outputs": [
        {
          "name": "stderr",
          "output_type": "stream",
          "text": [
            "/usr/local/lib/python3.7/dist-packages/torch/nn/functional.py:718: UserWarning: Named tensors and all their associated APIs are an experimental feature and subject to change. Please do not use them for anything important until they are released as stable. (Triggered internally at  /pytorch/c10/core/TensorImpl.h:1156.)\n",
            "  return torch.max_pool2d(input, kernel_size, stride, padding, dilation, ceil_mode)\n"
          ]
        }
      ],
      "source": [
        "result = reader.readtext('sample_data/My Post-min.png',paragraph=True)"
      ]
    },
    {
      "cell_type": "code",
      "execution_count": 5,
      "metadata": {
        "colab": {
          "base_uri": "https://localhost:8080/"
        },
        "id": "qsQJrBUU72Ku",
        "outputId": "63d4eb3a-21b8-4023-cfc2-8efcf7b54d0f"
      },
      "outputs": [
        {
          "data": {
            "text/plain": [
              "[[[[501, 77], [779, 77], [779, 626], [501, 626]], 'कह परेशां हा रहे हाो'],\n",
              " [[[1081, 683], [1277, 683], [1277, 719], [1081, 719]], 'Sp Adobe Spark']]"
            ]
          },
          "execution_count": 5,
          "metadata": {
            "tags": []
          },
          "output_type": "execute_result"
        }
      ],
      "source": [
        "result"
      ]
    },
    {
      "cell_type": "code",
      "execution_count": 6,
      "metadata": {
        "id": "KHjMAcic-FGL"
      },
      "outputs": [],
      "source": [
        "import cv2\n",
        "top_left = tuple(result[0][0][0])\n",
        "bottom_right = tuple(result[0][0][2])\n",
        "text = result[0][1]\n",
        "font = cv2.FONT_HERSHEY_SIMPLEX"
      ]
    },
    {
      "cell_type": "code",
      "execution_count": 8,
      "metadata": {
        "colab": {
          "base_uri": "https://localhost:8080/",
          "height": 737
        },
        "id": "3oym3zIZFmlw",
        "outputId": "51efe6a0-472e-43d1-d031-191e08081496"
      },
      "outputs": [
        {
          "ename": "OSError",
          "evalue": "cannot open resource",
          "output_type": "error",
          "traceback": [
            "\u001b[0;31m---------------------------------------------------------------------------\u001b[0m",
            "\u001b[0;31mOSError\u001b[0m                                   Traceback (most recent call last)",
            "Cell \u001b[0;32mIn[8], line 6\u001b[0m\n\u001b[1;32m      4\u001b[0m b,g,r,a \u001b[38;5;241m=\u001b[39m \u001b[38;5;241m50\u001b[39m,\u001b[38;5;241m66\u001b[39m,\u001b[38;5;241m168\u001b[39m,\u001b[38;5;241m0\u001b[39m\n\u001b[1;32m      5\u001b[0m fontpath \u001b[38;5;241m=\u001b[39m \u001b[38;5;124m\"\u001b[39m\u001b[38;5;124msample_data/Hind-SemiBold.ttf\u001b[39m\u001b[38;5;124m\"\u001b[39m\n\u001b[0;32m----> 6\u001b[0m font \u001b[38;5;241m=\u001b[39m \u001b[43mImageFont\u001b[49m\u001b[38;5;241;43m.\u001b[39;49m\u001b[43mtruetype\u001b[49m\u001b[43m(\u001b[49m\u001b[43mfontpath\u001b[49m\u001b[43m,\u001b[49m\u001b[43m \u001b[49m\u001b[38;5;241;43m32\u001b[39;49m\u001b[43m)\u001b[49m\n\u001b[1;32m      7\u001b[0m img \u001b[38;5;241m=\u001b[39m cv2\u001b[38;5;241m.\u001b[39mimread(\u001b[38;5;124m'\u001b[39m\u001b[38;5;124msample_data/My Post-min.png\u001b[39m\u001b[38;5;124m'\u001b[39m,cv2\u001b[38;5;241m.\u001b[39mCOLOR_BGR2RGB)\n\u001b[1;32m      8\u001b[0m img \u001b[38;5;241m=\u001b[39m cv2\u001b[38;5;241m.\u001b[39mrectangle(img,top_left,bottom_right,(\u001b[38;5;241m0\u001b[39m,\u001b[38;5;241m255\u001b[39m,\u001b[38;5;241m0\u001b[39m),\u001b[38;5;241m3\u001b[39m)\n",
            "File \u001b[0;32m~/Meet_Patel/new1/newVenv/lib/python3.12/site-packages/PIL/ImageFont.py:834\u001b[0m, in \u001b[0;36mtruetype\u001b[0;34m(font, size, index, encoding, layout_engine)\u001b[0m\n\u001b[1;32m    831\u001b[0m     \u001b[38;5;28;01mreturn\u001b[39;00m FreeTypeFont(font, size, index, encoding, layout_engine)\n\u001b[1;32m    833\u001b[0m \u001b[38;5;28;01mtry\u001b[39;00m:\n\u001b[0;32m--> 834\u001b[0m     \u001b[38;5;28;01mreturn\u001b[39;00m \u001b[43mfreetype\u001b[49m\u001b[43m(\u001b[49m\u001b[43mfont\u001b[49m\u001b[43m)\u001b[49m\n\u001b[1;32m    835\u001b[0m \u001b[38;5;28;01mexcept\u001b[39;00m \u001b[38;5;167;01mOSError\u001b[39;00m:\n\u001b[1;32m    836\u001b[0m     \u001b[38;5;28;01mif\u001b[39;00m \u001b[38;5;129;01mnot\u001b[39;00m is_path(font):\n",
            "File \u001b[0;32m~/Meet_Patel/new1/newVenv/lib/python3.12/site-packages/PIL/ImageFont.py:831\u001b[0m, in \u001b[0;36mtruetype.<locals>.freetype\u001b[0;34m(font)\u001b[0m\n\u001b[1;32m    830\u001b[0m \u001b[38;5;28;01mdef\u001b[39;00m \u001b[38;5;21mfreetype\u001b[39m(font: StrOrBytesPath \u001b[38;5;241m|\u001b[39m BinaryIO \u001b[38;5;241m|\u001b[39m \u001b[38;5;28;01mNone\u001b[39;00m) \u001b[38;5;241m-\u001b[39m\u001b[38;5;241m>\u001b[39m FreeTypeFont:\n\u001b[0;32m--> 831\u001b[0m     \u001b[38;5;28;01mreturn\u001b[39;00m \u001b[43mFreeTypeFont\u001b[49m\u001b[43m(\u001b[49m\u001b[43mfont\u001b[49m\u001b[43m,\u001b[49m\u001b[43m \u001b[49m\u001b[43msize\u001b[49m\u001b[43m,\u001b[49m\u001b[43m \u001b[49m\u001b[43mindex\u001b[49m\u001b[43m,\u001b[49m\u001b[43m \u001b[49m\u001b[43mencoding\u001b[49m\u001b[43m,\u001b[49m\u001b[43m \u001b[49m\u001b[43mlayout_engine\u001b[49m\u001b[43m)\u001b[49m\n",
            "File \u001b[0;32m~/Meet_Patel/new1/newVenv/lib/python3.12/site-packages/PIL/ImageFont.py:257\u001b[0m, in \u001b[0;36mFreeTypeFont.__init__\u001b[0;34m(self, font, size, index, encoding, layout_engine)\u001b[0m\n\u001b[1;32m    255\u001b[0m                 load_from_bytes(f)\n\u001b[1;32m    256\u001b[0m             \u001b[38;5;28;01mreturn\u001b[39;00m\n\u001b[0;32m--> 257\u001b[0m     \u001b[38;5;28mself\u001b[39m\u001b[38;5;241m.\u001b[39mfont \u001b[38;5;241m=\u001b[39m \u001b[43mcore\u001b[49m\u001b[38;5;241;43m.\u001b[39;49m\u001b[43mgetfont\u001b[49m\u001b[43m(\u001b[49m\n\u001b[1;32m    258\u001b[0m \u001b[43m        \u001b[49m\u001b[43mfont\u001b[49m\u001b[43m,\u001b[49m\u001b[43m \u001b[49m\u001b[43msize\u001b[49m\u001b[43m,\u001b[49m\u001b[43m \u001b[49m\u001b[43mindex\u001b[49m\u001b[43m,\u001b[49m\u001b[43m \u001b[49m\u001b[43mencoding\u001b[49m\u001b[43m,\u001b[49m\u001b[43m \u001b[49m\u001b[43mlayout_engine\u001b[49m\u001b[38;5;241;43m=\u001b[39;49m\u001b[43mlayout_engine\u001b[49m\n\u001b[1;32m    259\u001b[0m \u001b[43m    \u001b[49m\u001b[43m)\u001b[49m\n\u001b[1;32m    260\u001b[0m \u001b[38;5;28;01melse\u001b[39;00m:\n\u001b[1;32m    261\u001b[0m     load_from_bytes(font)\n",
            "\u001b[0;31mOSError\u001b[0m: cannot open resource"
          ]
        }
      ],
      "source": [
        "import matplotlib.pyplot as plt\n",
        "import numpy as np\n",
        "from PIL import ImageFont, ImageDraw, Image\n",
        "b,g,r,a = 50,66,168,0\n",
        "fontpath = \"sample_data/Hind-SemiBold.ttf\"\n",
        "font = ImageFont.truetype(fontpath, 32)\n",
        "img = cv2.imread('sample_data/My Post-min.png',cv2.COLOR_BGR2RGB)\n",
        "img = cv2.rectangle(img,top_left,bottom_right,(0,255,0),3)\n",
        "img_pil = Image.fromarray(img)\n",
        "draw = ImageDraw.Draw(img_pil)\n",
        "draw.text(bottom_right,  \"कह परेशां हा रहे हाो\", font = font, fill = (b, g, r, a))\n",
        "img = np.array(img_pil)\n",
        "\n",
        "img2 = cv2.putText(img,' ', bottom_right, cv2.FONT_HERSHEY_SIMPLEX, 0.5, 1, cv2.LINE_AA)\n",
        "\n",
        "#plt.figure(figsize=(10,10))\n",
        "#plt.imshow(img2)\n",
        "#plt.show()\n",
        "cv2_imshow(img2)"
      ]
    },
    {
      "cell_type": "code",
      "execution_count": 7,
      "metadata": {
        "id": "bD9z9vTt4Gil"
      },
      "outputs": [],
      "source": [
        "result = reader.readtext('sample_data/test_pan.jpg',paragraph=True)"
      ]
    },
    {
      "cell_type": "code",
      "execution_count": 39,
      "metadata": {
        "colab": {
          "base_uri": "https://localhost:8080/"
        },
        "id": "gjHrYw1DE-wO",
        "outputId": "5b9d6ffc-28b8-4ea8-fbf7-32c625a08b3d"
      },
      "outputs": [
        {
          "data": {
            "text/plain": [
              "[[[[14, 16], [431, 16], [431, 148], [14, 148]],\n",
              "  'आयकर विभाग INCONE TAX DEPARTILNT'],\n",
              " [[[628, 31], [982, 31], [982, 150], [628, 150]], 'भारत सरकार GOVT OF INDIA'],\n",
              " [[[42, 194], [202, 194], [202, 226], [42, 226]], 'TYOUR NAME]'],\n",
              " [[[773, 214], [899, 214], [899, 298], [773, 298]], 'शास्त सकार'],\n",
              " [[[44, 258], [248, 258], [248, 290], [44, 290]], \"[FATHER'S NAMEJ\"],\n",
              " [[[54, 328], [230, 328], [230, 356], [54, 356]], 'DATE OF BIRTH'],\n",
              " [[[27, 377], [390, 377], [390, 452], [27, 452]],\n",
              "  'Permanent /ccount Number ABCDE12३4F'],\n",
              " [[[738, 384], [876, 384], [876, 496], [738, 496]], 'Your Photo'],\n",
              " [[[33, 509], [243, 509], [243, 547], [33, 547]], 'Your Signature'],\n",
              " [[[20, 571], [157, 571], [157, 619], [20, 619]], 'Signature']]"
            ]
          },
          "execution_count": 39,
          "metadata": {
            "tags": []
          },
          "output_type": "execute_result"
        }
      ],
      "source": [
        "result"
      ]
    },
    {
      "cell_type": "code",
      "execution_count": 40,
      "metadata": {
        "id": "0lGGbj7vFfqr"
      },
      "outputs": [],
      "source": [
        "import cv2\n",
        "top_left = tuple(result[0][0][0])\n",
        "bottom_right = tuple(result[0][0][2])\n",
        "text = result[0][1]\n",
        "font = cv2.FONT_HERSHEY_SIMPLEX"
      ]
    },
    {
      "cell_type": "code",
      "execution_count": 9,
      "metadata": {
        "colab": {
          "base_uri": "https://localhost:8080/",
          "height": 400
        },
        "id": "_JakuerR5psu",
        "outputId": "5f998f94-c357-4e6c-e11c-1d64a1826176"
      },
      "outputs": [
        {
          "ename": "NameError",
          "evalue": "name 'cv2' is not defined",
          "output_type": "error",
          "traceback": [
            "\u001b[0;31m---------------------------------------------------------------------------\u001b[0m",
            "\u001b[0;31mNameError\u001b[0m                                 Traceback (most recent call last)",
            "Cell \u001b[0;32mIn[9], line 1\u001b[0m\n\u001b[0;32m----> 1\u001b[0m img \u001b[38;5;241m=\u001b[39m \u001b[43mcv2\u001b[49m\u001b[38;5;241m.\u001b[39mimread(\u001b[38;5;124m'\u001b[39m\u001b[38;5;124msample_data/test_pan.jpg\u001b[39m\u001b[38;5;124m'\u001b[39m)\n\u001b[1;32m      2\u001b[0m spacer \u001b[38;5;241m=\u001b[39m \u001b[38;5;241m300\u001b[39m\n\u001b[1;32m      3\u001b[0m font \u001b[38;5;241m=\u001b[39m cv2\u001b[38;5;241m.\u001b[39mFONT_HERSHEY_SIMPLEX\n",
            "\u001b[0;31mNameError\u001b[0m: name 'cv2' is not defined"
          ]
        }
      ],
      "source": [
        "img = cv2.imread('sample_data/test_pan.jpg')\n",
        "spacer = 300\n",
        "font = cv2.FONT_HERSHEY_SIMPLEX\n",
        "for detection in result: \n",
        "    top_left = tuple(detection[0][0])\n",
        "    bottom_right = tuple(detection[0][2])\n",
        "    text = detection[1]\n",
        "    img = cv2.rectangle(img,top_left,bottom_right,(0,255,0),3)\n",
        "    #img = cv2.putText(img,text,(20,spacer), font, 0.5,(255,255,0),2,cv2.LINE_AA)\n",
        "    spacer+=15\n",
        "plt.figure(figsize=(10,10))\n",
        "plt.imshow(img)\n",
        "plt.show()"
      ]
    },
    {
      "cell_type": "code",
      "execution_count": 42,
      "metadata": {
        "colab": {
          "base_uri": "https://localhost:8080/"
        },
        "id": "ZN9mTYQJ7ItE",
        "outputId": "b7a8f192-3ad6-4f5b-dea6-02c8e9be9dd4"
      },
      "outputs": [
        {
          "name": "stdout",
          "output_type": "stream",
          "text": [
            "आयकर विभाग INCONE TAX DEPARTILNT\n",
            "भारत सरकार GOVT OF INDIA\n",
            "TYOUR NAME]\n",
            "शास्त सकार\n",
            "[FATHER'S NAMEJ\n",
            "DATE OF BIRTH\n",
            "Permanent /ccount Number ABCDE12३4F\n",
            "Your Photo\n",
            "Your Signature\n",
            "Signature\n"
          ]
        }
      ],
      "source": [
        "for i in result:\n",
        "  print(i[1])"
      ]
    },
    {
      "cell_type": "code",
      "execution_count": 43,
      "metadata": {
        "colab": {
          "base_uri": "https://localhost:8080/"
        },
        "id": "NtLhUVSZGXiu",
        "outputId": "89d6330d-85f4-4d1a-afec-7567dd649409"
      },
      "outputs": [
        {
          "name": "stdout",
          "output_type": "stream",
          "text": [
            "Signature\n"
          ]
        }
      ],
      "source": [
        "print(text)"
      ]
    },
    {
      "cell_type": "code",
      "execution_count": 43,
      "metadata": {
        "id": "_-EJ0zEc3zWK"
      },
      "outputs": [],
      "source": []
    }
  ],
  "metadata": {
    "colab": {
      "name": "OCR.ipynb",
      "provenance": []
    },
    "kernelspec": {
      "display_name": "Python 3",
      "name": "python3"
    },
    "language_info": {
      "codemirror_mode": {
        "name": "ipython",
        "version": 3
      },
      "file_extension": ".py",
      "mimetype": "text/x-python",
      "name": "python",
      "nbconvert_exporter": "python",
      "pygments_lexer": "ipython3",
      "version": "3.12.4"
    }
  },
  "nbformat": 4,
  "nbformat_minor": 0
}
